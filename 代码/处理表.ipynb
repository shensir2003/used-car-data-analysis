{
 "cells": [
  {
   "cell_type": "code",
   "execution_count": 2,
   "id": "a1f631b0-8f15-4e0b-a559-9d18ff768068",
   "metadata": {},
   "outputs": [],
   "source": [
    "import pandas as pd\n",
    "import numpy as np\n",
    "from tqdm import tqdm"
   ]
  },
  {
   "cell_type": "code",
   "execution_count": 3,
   "id": "cd560b85-d307-45de-843b-195d0fae6f45",
   "metadata": {},
   "outputs": [
    {
     "data": {
      "text/html": [
       "<div>\n",
       "<style scoped>\n",
       "    .dataframe tbody tr th:only-of-type {\n",
       "        vertical-align: middle;\n",
       "    }\n",
       "\n",
       "    .dataframe tbody tr th {\n",
       "        vertical-align: top;\n",
       "    }\n",
       "\n",
       "    .dataframe thead th {\n",
       "        text-align: right;\n",
       "    }\n",
       "</style>\n",
       "<table border=\"1\" class=\"dataframe\">\n",
       "  <thead>\n",
       "    <tr style=\"text-align: right;\">\n",
       "      <th></th>\n",
       "      <th>car_brand</th>\n",
       "      <th>style_year</th>\n",
       "      <th>other_info</th>\n",
       "      <th>buy_year</th>\n",
       "      <th>total_km</th>\n",
       "      <th>location</th>\n",
       "      <th>total_price</th>\n",
       "      <th>original_price</th>\n",
       "    </tr>\n",
       "  </thead>\n",
       "  <tbody>\n",
       "    <tr>\n",
       "      <th>0</th>\n",
       "      <td>马自达 阿特兹</td>\n",
       "      <td>2018款</td>\n",
       "      <td>2.5L 蓝天尊崇版</td>\n",
       "      <td>2018</td>\n",
       "      <td>1.0</td>\n",
       "      <td>西安</td>\n",
       "      <td>19.47</td>\n",
       "      <td>23.5</td>\n",
       "    </tr>\n",
       "    <tr>\n",
       "      <th>1</th>\n",
       "      <td>长安商用 欧力威</td>\n",
       "      <td>2013款</td>\n",
       "      <td>1.2L 手动舒适型</td>\n",
       "      <td>2013</td>\n",
       "      <td>12.3</td>\n",
       "      <td>西宁</td>\n",
       "      <td>1.95</td>\n",
       "      <td>4.7</td>\n",
       "    </tr>\n",
       "    <tr>\n",
       "      <th>2</th>\n",
       "      <td>保时捷Cayenne</td>\n",
       "      <td>2016款</td>\n",
       "      <td>Cayenne 3.0T</td>\n",
       "      <td>2015</td>\n",
       "      <td>3.8</td>\n",
       "      <td>哈尔滨</td>\n",
       "      <td>75.00</td>\n",
       "      <td>96.4</td>\n",
       "    </tr>\n",
       "    <tr>\n",
       "      <th>3</th>\n",
       "      <td>别克 凯越</td>\n",
       "      <td>2011款</td>\n",
       "      <td>1.6LE-MT</td>\n",
       "      <td>2010</td>\n",
       "      <td>11.5</td>\n",
       "      <td>成都</td>\n",
       "      <td>2.68</td>\n",
       "      <td>11.7</td>\n",
       "    </tr>\n",
       "    <tr>\n",
       "      <th>4</th>\n",
       "      <td>大众 夏朗</td>\n",
       "      <td>2016款</td>\n",
       "      <td>380TSI 舒享型 7座(进口)</td>\n",
       "      <td>2017</td>\n",
       "      <td>5.6</td>\n",
       "      <td>广州</td>\n",
       "      <td>19.00</td>\n",
       "      <td>32.1</td>\n",
       "    </tr>\n",
       "  </tbody>\n",
       "</table>\n",
       "</div>"
      ],
      "text/plain": [
       "    car_brand style_year         other_info  buy_year  total_km location  \\\n",
       "0     马自达 阿特兹      2018款         2.5L 蓝天尊崇版      2018       1.0       西安   \n",
       "1    长安商用 欧力威      2013款         1.2L 手动舒适型      2013      12.3       西宁   \n",
       "2  保时捷Cayenne      2016款       Cayenne 3.0T      2015       3.8      哈尔滨   \n",
       "3       别克 凯越      2011款           1.6LE-MT      2010      11.5       成都   \n",
       "4       大众 夏朗      2016款  380TSI 舒享型 7座(进口)      2017       5.6       广州   \n",
       "\n",
       "   total_price  original_price  \n",
       "0        19.47            23.5  \n",
       "1         1.95             4.7  \n",
       "2        75.00            96.4  \n",
       "3         2.68            11.7  \n",
       "4        19.00            32.1  "
      ]
     },
     "execution_count": 3,
     "metadata": {},
     "output_type": "execute_result"
    }
   ],
   "source": [
    "df = pd.read_csv('../数据/car_info_cleared.csv')\n",
    "df.head()"
   ]
  },
  {
   "cell_type": "code",
   "execution_count": 4,
   "id": "09785074-c8a4-4b3a-aeb0-e2ca3c73ca67",
   "metadata": {},
   "outputs": [
    {
     "data": {
      "text/html": [
       "<div>\n",
       "<style scoped>\n",
       "    .dataframe tbody tr th:only-of-type {\n",
       "        vertical-align: middle;\n",
       "    }\n",
       "\n",
       "    .dataframe tbody tr th {\n",
       "        vertical-align: top;\n",
       "    }\n",
       "\n",
       "    .dataframe thead th {\n",
       "        text-align: right;\n",
       "    }\n",
       "</style>\n",
       "<table border=\"1\" class=\"dataframe\">\n",
       "  <thead>\n",
       "    <tr style=\"text-align: right;\">\n",
       "      <th></th>\n",
       "      <th>car_brand</th>\n",
       "      <th>style_year</th>\n",
       "      <th>other_info</th>\n",
       "      <th>buy_year</th>\n",
       "      <th>total_km</th>\n",
       "      <th>location</th>\n",
       "      <th>total_price</th>\n",
       "      <th>original_price</th>\n",
       "      <th>brand</th>\n",
       "    </tr>\n",
       "  </thead>\n",
       "  <tbody>\n",
       "    <tr>\n",
       "      <th>0</th>\n",
       "      <td>马自达 阿特兹</td>\n",
       "      <td>2018款</td>\n",
       "      <td>2.5L 蓝天尊崇版</td>\n",
       "      <td>2018</td>\n",
       "      <td>1.0</td>\n",
       "      <td>西安</td>\n",
       "      <td>19.47</td>\n",
       "      <td>23.5</td>\n",
       "      <td>马自达</td>\n",
       "    </tr>\n",
       "    <tr>\n",
       "      <th>1</th>\n",
       "      <td>长安商用 欧力威</td>\n",
       "      <td>2013款</td>\n",
       "      <td>1.2L 手动舒适型</td>\n",
       "      <td>2013</td>\n",
       "      <td>12.3</td>\n",
       "      <td>西宁</td>\n",
       "      <td>1.95</td>\n",
       "      <td>4.7</td>\n",
       "      <td>长安商用</td>\n",
       "    </tr>\n",
       "    <tr>\n",
       "      <th>2</th>\n",
       "      <td>保时捷Cayenne</td>\n",
       "      <td>2016款</td>\n",
       "      <td>Cayenne 3.0T</td>\n",
       "      <td>2015</td>\n",
       "      <td>3.8</td>\n",
       "      <td>哈尔滨</td>\n",
       "      <td>75.00</td>\n",
       "      <td>96.4</td>\n",
       "      <td>保时捷</td>\n",
       "    </tr>\n",
       "    <tr>\n",
       "      <th>3</th>\n",
       "      <td>别克 凯越</td>\n",
       "      <td>2011款</td>\n",
       "      <td>1.6LE-MT</td>\n",
       "      <td>2010</td>\n",
       "      <td>11.5</td>\n",
       "      <td>成都</td>\n",
       "      <td>2.68</td>\n",
       "      <td>11.7</td>\n",
       "      <td>别克</td>\n",
       "    </tr>\n",
       "    <tr>\n",
       "      <th>4</th>\n",
       "      <td>大众 夏朗</td>\n",
       "      <td>2016款</td>\n",
       "      <td>380TSI 舒享型 7座(进口)</td>\n",
       "      <td>2017</td>\n",
       "      <td>5.6</td>\n",
       "      <td>广州</td>\n",
       "      <td>19.00</td>\n",
       "      <td>32.1</td>\n",
       "      <td>大众</td>\n",
       "    </tr>\n",
       "  </tbody>\n",
       "</table>\n",
       "</div>"
      ],
      "text/plain": [
       "    car_brand style_year         other_info  buy_year  total_km location  \\\n",
       "0     马自达 阿特兹      2018款         2.5L 蓝天尊崇版      2018       1.0       西安   \n",
       "1    长安商用 欧力威      2013款         1.2L 手动舒适型      2013      12.3       西宁   \n",
       "2  保时捷Cayenne      2016款       Cayenne 3.0T      2015       3.8      哈尔滨   \n",
       "3       别克 凯越      2011款           1.6LE-MT      2010      11.5       成都   \n",
       "4       大众 夏朗      2016款  380TSI 舒享型 7座(进口)      2017       5.6       广州   \n",
       "\n",
       "   total_price  original_price brand  \n",
       "0        19.47            23.5   马自达  \n",
       "1         1.95             4.7  长安商用  \n",
       "2        75.00            96.4   保时捷  \n",
       "3         2.68            11.7    别克  \n",
       "4        19.00            32.1    大众  "
      ]
     },
     "execution_count": 4,
     "metadata": {},
     "output_type": "execute_result"
    }
   ],
   "source": [
    "# 获取汽车牌子的pattern\n",
    "\n",
    "# 获取格式如 XXX XXX \n",
    "# 马自达 阿特兹\n",
    "brand_pat1 = r'([^\\s]+)'\n",
    "\n",
    "# 获取格式如 XXXabcd \n",
    "# 保时捷Cayenne\n",
    "brand_pat2 = r'([\\u4e00-\\u9fa5]+)'\n",
    "\n",
    "df_new = df.copy()\n",
    "df_new['brand'] = df['car_brand'].str.extract(brand_pat1)\n",
    "df_new['brand'] = df_new['brand'].str.extract(brand_pat2)\n",
    "\n",
    "df_new.head()"
   ]
  },
  {
   "cell_type": "markdown",
   "id": "30358b53-80ac-45dc-8fc1-a325fff617b6",
   "metadata": {},
   "source": [
    "#### Note\n",
    "brand列用于初步预览品牌类型，目的是构建出一个包含品牌的brand_list列表"
   ]
  },
  {
   "cell_type": "code",
   "execution_count": null,
   "id": "494d1afa-ac0e-4d50-96f2-7e722d7289cd",
   "metadata": {},
   "outputs": [],
   "source": []
  },
  {
   "cell_type": "code",
   "execution_count": 5,
   "id": "32db7359-c444-4cb8-8a51-95e4a3e2c8c8",
   "metadata": {},
   "outputs": [],
   "source": [
    "# 导出\n",
    "df_new.to_csv('../数据/test.csv', index=False)"
   ]
  },
  {
   "cell_type": "code",
   "execution_count": 6,
   "id": "73370bc6-fb2c-4f3f-99d4-3a97123068b7",
   "metadata": {},
   "outputs": [],
   "source": [
    "brand_list = ['宝马', '奥迪', '奔驰', '北京', '北汽', '宝骏', \n",
    "              '本田', '比亚迪', '别克', '奔腾', '宝沃', '保时捷', \n",
    "              '宾利', '比速', '标致', '昌河', '川汽野马', '成功',\n",
    "              '传祺','大众', '道奇', 'Jeep', '电咖汽车', '东风',\n",
    "              '东南', '大发', '法拉利', '菲亚特', '丰田', '福特',\n",
    "              '观致', '广汽', '哈飞', '哈弗', '海格', '海马',\n",
    "              '悍马', '红旗', '华普', '华颂', '华泰', '吉利',\n",
    "              '江淮', '江铃', '开瑞', '凯迪拉克', '凯翼', '兰博基尼',\n",
    "              '劳斯莱斯', '雷克萨斯', '雷诺', '力帆', '猎豹', '林肯',\n",
    "              '铃木', '陆风', '路虎', '马自达', '纳智捷', '玛莎拉蒂',\n",
    "              '欧宝', '奇瑞', '起亚', '日产', '荣威', '三菱',\n",
    "              '上汽大通', '斯巴鲁', '斯柯达', '众泰', '雪铁龙', '一汽',\n",
    "              '五菱','雪佛兰', '英菲尼迪', '长安', '中华', '中兴', \n",
    "              'MG', 'WEY', 'MINI', 'Smart', 'DS', '长城', '沃尔沃',\n",
    "              '现代', '启辰', '捷豹', '金杯', '福田', '夏利', '特斯拉', \n",
    "              '知豆', '依维柯', '英致']"
   ]
  },
  {
   "cell_type": "code",
   "execution_count": 7,
   "id": "60cc3899-0af5-45fd-b2cf-e4441e415337",
   "metadata": {},
   "outputs": [
    {
     "data": {
      "text/plain": [
       "95"
      ]
     },
     "execution_count": 7,
     "metadata": {},
     "output_type": "execute_result"
    }
   ],
   "source": [
    "len(brand_list)"
   ]
  },
  {
   "cell_type": "code",
   "execution_count": null,
   "id": "8a67921b-d279-4af5-957a-3f8a10609e47",
   "metadata": {},
   "outputs": [],
   "source": [
    "# df_new.loc[df['car_brand'].str.contains('马自达') == True, 'brand_tag'] = '马自达'"
   ]
  },
  {
   "cell_type": "code",
   "execution_count": 8,
   "id": "aea8f128-9d90-4299-924b-1c56f3ffd56e",
   "metadata": {},
   "outputs": [
    {
     "name": "stderr",
     "output_type": "stream",
     "text": [
      "  0%|          | 0/95 [00:00<?, ?it/s]"
     ]
    },
    {
     "name": "stderr",
     "output_type": "stream",
     "text": [
      "C:\\Users\\13905\\AppData\\Local\\Temp\\ipykernel_3660\\2534939429.py:4: FutureWarning: Setting an item of incompatible dtype is deprecated and will raise in a future error of pandas. Value '宝马' has dtype incompatible with float64, please explicitly cast to a compatible dtype first.\n",
      "  df_new.loc[df['car_brand'].str.contains(brand) == True, 'brand_tag'] = brand\n",
      "100%|██████████| 95/95 [00:15<00:00,  6.09it/s]\n"
     ]
    }
   ],
   "source": [
    "# 为车子牌子大类打标签\n",
    "# tqdm库添加打标签进度条\n",
    "for brand in tqdm(brand_list):\n",
    "    df_new.loc[df['car_brand'].str.contains(brand) == True, 'brand_tag'] = brand"
   ]
  },
  {
   "cell_type": "code",
   "execution_count": 9,
   "id": "94080d52-2e40-4c19-8899-b4c594fa430e",
   "metadata": {},
   "outputs": [
    {
     "data": {
      "text/html": [
       "<div>\n",
       "<style scoped>\n",
       "    .dataframe tbody tr th:only-of-type {\n",
       "        vertical-align: middle;\n",
       "    }\n",
       "\n",
       "    .dataframe tbody tr th {\n",
       "        vertical-align: top;\n",
       "    }\n",
       "\n",
       "    .dataframe thead th {\n",
       "        text-align: right;\n",
       "    }\n",
       "</style>\n",
       "<table border=\"1\" class=\"dataframe\">\n",
       "  <thead>\n",
       "    <tr style=\"text-align: right;\">\n",
       "      <th></th>\n",
       "      <th>car_brand</th>\n",
       "      <th>style_year</th>\n",
       "      <th>other_info</th>\n",
       "      <th>buy_year</th>\n",
       "      <th>total_km</th>\n",
       "      <th>location</th>\n",
       "      <th>total_price</th>\n",
       "      <th>original_price</th>\n",
       "      <th>brand</th>\n",
       "      <th>brand_tag</th>\n",
       "    </tr>\n",
       "  </thead>\n",
       "  <tbody>\n",
       "    <tr>\n",
       "      <th>0</th>\n",
       "      <td>马自达 阿特兹</td>\n",
       "      <td>2018款</td>\n",
       "      <td>2.5L 蓝天尊崇版</td>\n",
       "      <td>2018</td>\n",
       "      <td>1.0</td>\n",
       "      <td>西安</td>\n",
       "      <td>19.47</td>\n",
       "      <td>23.5</td>\n",
       "      <td>马自达</td>\n",
       "      <td>马自达</td>\n",
       "    </tr>\n",
       "    <tr>\n",
       "      <th>1</th>\n",
       "      <td>长安商用 欧力威</td>\n",
       "      <td>2013款</td>\n",
       "      <td>1.2L 手动舒适型</td>\n",
       "      <td>2013</td>\n",
       "      <td>12.3</td>\n",
       "      <td>西宁</td>\n",
       "      <td>1.95</td>\n",
       "      <td>4.7</td>\n",
       "      <td>长安商用</td>\n",
       "      <td>长安</td>\n",
       "    </tr>\n",
       "    <tr>\n",
       "      <th>2</th>\n",
       "      <td>保时捷Cayenne</td>\n",
       "      <td>2016款</td>\n",
       "      <td>Cayenne 3.0T</td>\n",
       "      <td>2015</td>\n",
       "      <td>3.8</td>\n",
       "      <td>哈尔滨</td>\n",
       "      <td>75.00</td>\n",
       "      <td>96.4</td>\n",
       "      <td>保时捷</td>\n",
       "      <td>保时捷</td>\n",
       "    </tr>\n",
       "    <tr>\n",
       "      <th>3</th>\n",
       "      <td>别克 凯越</td>\n",
       "      <td>2011款</td>\n",
       "      <td>1.6LE-MT</td>\n",
       "      <td>2010</td>\n",
       "      <td>11.5</td>\n",
       "      <td>成都</td>\n",
       "      <td>2.68</td>\n",
       "      <td>11.7</td>\n",
       "      <td>别克</td>\n",
       "      <td>别克</td>\n",
       "    </tr>\n",
       "    <tr>\n",
       "      <th>4</th>\n",
       "      <td>大众 夏朗</td>\n",
       "      <td>2016款</td>\n",
       "      <td>380TSI 舒享型 7座(进口)</td>\n",
       "      <td>2017</td>\n",
       "      <td>5.6</td>\n",
       "      <td>广州</td>\n",
       "      <td>19.00</td>\n",
       "      <td>32.1</td>\n",
       "      <td>大众</td>\n",
       "      <td>大众</td>\n",
       "    </tr>\n",
       "    <tr>\n",
       "      <th>...</th>\n",
       "      <td>...</td>\n",
       "      <td>...</td>\n",
       "      <td>...</td>\n",
       "      <td>...</td>\n",
       "      <td>...</td>\n",
       "      <td>...</td>\n",
       "      <td>...</td>\n",
       "      <td>...</td>\n",
       "      <td>...</td>\n",
       "      <td>...</td>\n",
       "    </tr>\n",
       "    <tr>\n",
       "      <th>417352</th>\n",
       "      <td>雪铁龙C4L</td>\n",
       "      <td>2016款</td>\n",
       "      <td>1.2T 手动领先型</td>\n",
       "      <td>2016</td>\n",
       "      <td>7.8</td>\n",
       "      <td>南充</td>\n",
       "      <td>6.60</td>\n",
       "      <td>14.6</td>\n",
       "      <td>雪铁龙</td>\n",
       "      <td>雪铁龙</td>\n",
       "    </tr>\n",
       "    <tr>\n",
       "      <th>417353</th>\n",
       "      <td>日产 天籁</td>\n",
       "      <td>2015款</td>\n",
       "      <td>2.0L XL Upper欧冠科技版</td>\n",
       "      <td>2015</td>\n",
       "      <td>8.6</td>\n",
       "      <td>广州</td>\n",
       "      <td>13.20</td>\n",
       "      <td>21.2</td>\n",
       "      <td>日产</td>\n",
       "      <td>日产</td>\n",
       "    </tr>\n",
       "    <tr>\n",
       "      <th>417354</th>\n",
       "      <td>长城C30</td>\n",
       "      <td>2013款</td>\n",
       "      <td>1.5L 手动豪华型</td>\n",
       "      <td>2013</td>\n",
       "      <td>2.2</td>\n",
       "      <td>南通</td>\n",
       "      <td>3.00</td>\n",
       "      <td>7.3</td>\n",
       "      <td>长城</td>\n",
       "      <td>长城</td>\n",
       "    </tr>\n",
       "    <tr>\n",
       "      <th>417355</th>\n",
       "      <td>标致3008</td>\n",
       "      <td>2015款</td>\n",
       "      <td>1.6THP 自动经典版</td>\n",
       "      <td>2016</td>\n",
       "      <td>1.9</td>\n",
       "      <td>武汉</td>\n",
       "      <td>12.00</td>\n",
       "      <td>20.5</td>\n",
       "      <td>标致</td>\n",
       "      <td>标致</td>\n",
       "    </tr>\n",
       "    <tr>\n",
       "      <th>417356</th>\n",
       "      <td>奇瑞 瑞虎3</td>\n",
       "      <td>2014款</td>\n",
       "      <td>1.6L 手动智尚版</td>\n",
       "      <td>2014</td>\n",
       "      <td>3.7</td>\n",
       "      <td>青岛</td>\n",
       "      <td>5.00</td>\n",
       "      <td>8.5</td>\n",
       "      <td>奇瑞</td>\n",
       "      <td>奇瑞</td>\n",
       "    </tr>\n",
       "  </tbody>\n",
       "</table>\n",
       "<p>417357 rows × 10 columns</p>\n",
       "</div>"
      ],
      "text/plain": [
       "         car_brand style_year          other_info  buy_year  total_km  \\\n",
       "0          马自达 阿特兹      2018款          2.5L 蓝天尊崇版      2018       1.0   \n",
       "1         长安商用 欧力威      2013款          1.2L 手动舒适型      2013      12.3   \n",
       "2       保时捷Cayenne      2016款        Cayenne 3.0T      2015       3.8   \n",
       "3            别克 凯越      2011款            1.6LE-MT      2010      11.5   \n",
       "4            大众 夏朗      2016款   380TSI 舒享型 7座(进口)      2017       5.6   \n",
       "...            ...        ...                 ...       ...       ...   \n",
       "417352      雪铁龙C4L      2016款          1.2T 手动领先型      2016       7.8   \n",
       "417353       日产 天籁      2015款  2.0L XL Upper欧冠科技版      2015       8.6   \n",
       "417354       长城C30      2013款          1.5L 手动豪华型      2013       2.2   \n",
       "417355      标致3008      2015款        1.6THP 自动经典版      2016       1.9   \n",
       "417356      奇瑞 瑞虎3      2014款          1.6L 手动智尚版      2014       3.7   \n",
       "\n",
       "       location  total_price  original_price brand brand_tag  \n",
       "0            西安        19.47            23.5   马自达       马自达  \n",
       "1            西宁         1.95             4.7  长安商用        长安  \n",
       "2           哈尔滨        75.00            96.4   保时捷       保时捷  \n",
       "3            成都         2.68            11.7    别克        别克  \n",
       "4            广州        19.00            32.1    大众        大众  \n",
       "...         ...          ...             ...   ...       ...  \n",
       "417352       南充         6.60            14.6   雪铁龙       雪铁龙  \n",
       "417353       广州        13.20            21.2    日产        日产  \n",
       "417354       南通         3.00             7.3    长城        长城  \n",
       "417355       武汉        12.00            20.5    标致        标致  \n",
       "417356       青岛         5.00             8.5    奇瑞        奇瑞  \n",
       "\n",
       "[417357 rows x 10 columns]"
      ]
     },
     "execution_count": 9,
     "metadata": {},
     "output_type": "execute_result"
    }
   ],
   "source": [
    "df_new"
   ]
  },
  {
   "cell_type": "code",
   "execution_count": 10,
   "id": "5cdeec3d-0a34-49f0-9959-4e800e49f640",
   "metadata": {},
   "outputs": [],
   "source": [
    "# 将该列空值去除并且保存\n",
    "df_new['brand_tag'].dropna(inplace=True)"
   ]
  },
  {
   "cell_type": "code",
   "execution_count": 12,
   "id": "6720ddb0-a4b4-4543-9395-9910f2baf809",
   "metadata": {},
   "outputs": [],
   "source": [
    "# 导出仅供预览 可以略过\n",
    "df_new.to_csv('../数据/test2.csv', index=False)"
   ]
  },
  {
   "cell_type": "code",
   "execution_count": 13,
   "id": "a10dc96f-e710-49c2-a446-081636cf4953",
   "metadata": {},
   "outputs": [],
   "source": [
    "# 已有新的品牌标签 删除brand列\n",
    "del df_new['brand']"
   ]
  },
  {
   "cell_type": "code",
   "execution_count": 14,
   "id": "f56a2608-44b7-4bed-bcb0-2772add755e0",
   "metadata": {},
   "outputs": [
    {
     "data": {
      "text/plain": [
       "car_brand         413877\n",
       "style_year        413877\n",
       "other_info        413877\n",
       "buy_year          413877\n",
       "total_km          413877\n",
       "location          413877\n",
       "total_price       413877\n",
       "original_price    413877\n",
       "brand_tag         413877\n",
       "dtype: int64"
      ]
     },
     "execution_count": 14,
     "metadata": {},
     "output_type": "execute_result"
    }
   ],
   "source": [
    "# 将空值都删除\n",
    "df_new.dropna(inplace=True)\n",
    "df_new.count()"
   ]
  },
  {
   "cell_type": "code",
   "execution_count": 15,
   "id": "e5803db5-a6e8-47f6-a48e-81890eab926e",
   "metadata": {},
   "outputs": [],
   "source": [
    "# 进行排量的提取\n",
    "\n",
    "# 定义获取浮点数的pattern\n",
    "get_float = r'(\\d+(\\.\\d+)?)'\n",
    "\n",
    "df_new['engine_displacement'] = df_new['other_info'].str.extract(get_float)[0]"
   ]
  },
  {
   "cell_type": "markdown",
   "id": "8019bdf7-92e2-4472-8f81-7eee22e294ba",
   "metadata": {},
   "source": [
    "old records 423436"
   ]
  },
  {
   "cell_type": "code",
   "execution_count": 16,
   "id": "f0f4c258-1f45-4faf-bc63-d6fef58330fc",
   "metadata": {},
   "outputs": [
    {
     "data": {
      "text/plain": [
       "car_brand              411257\n",
       "style_year             411257\n",
       "other_info             411257\n",
       "buy_year               411257\n",
       "total_km               411257\n",
       "location               411257\n",
       "total_price            411257\n",
       "original_price         411257\n",
       "brand_tag              411257\n",
       "engine_displacement    411257\n",
       "dtype: int64"
      ]
     },
     "execution_count": 16,
     "metadata": {},
     "output_type": "execute_result"
    }
   ],
   "source": [
    "# 删除空值\n",
    "df_new.dropna(inplace=True)\n",
    "df_new.count()"
   ]
  },
  {
   "cell_type": "code",
   "execution_count": 17,
   "id": "c196ff2f-2c27-4dfe-bfb3-d7bc43f4ef96",
   "metadata": {},
   "outputs": [
    {
     "name": "stdout",
     "output_type": "stream",
     "text": [
      "数据保留率 0.971237684089213\n"
     ]
    }
   ],
   "source": [
    "print('数据保留率', 411257 / 423436)"
   ]
  },
  {
   "cell_type": "code",
   "execution_count": 18,
   "id": "898a3880-3c5d-4e10-964b-b52d14a7d8db",
   "metadata": {},
   "outputs": [],
   "source": [
    "# 导出\n",
    "df_new.to_csv('../数据/car_info_finals.csv', index=False)"
   ]
  },
  {
   "cell_type": "code",
   "execution_count": null,
   "id": "9f437b1a-cbb4-47b2-a650-d4600c2a0d1f",
   "metadata": {},
   "outputs": [],
   "source": []
  }
 ],
 "metadata": {
  "kernelspec": {
   "display_name": "Python 3 (ipykernel)",
   "language": "python",
   "name": "python3"
  },
  "language_info": {
   "codemirror_mode": {
    "name": "ipython",
    "version": 3
   },
   "file_extension": ".py",
   "mimetype": "text/x-python",
   "name": "python",
   "nbconvert_exporter": "python",
   "pygments_lexer": "ipython3",
   "version": "3.11.5"
  }
 },
 "nbformat": 4,
 "nbformat_minor": 5
}
