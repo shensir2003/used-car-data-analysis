{
 "cells": [
  {
   "cell_type": "code",
   "execution_count": 1,
   "id": "30b401fc-4a38-43e6-9a5b-1a73c9d9b1a2",
   "metadata": {},
   "outputs": [],
   "source": [
    "# 将以下三表入库\n",
    "# car_info_sss.csv\n",
    "# mean_value_df.csv\n",
    "# province_rank_df.csv"
   ]
  },
  {
   "cell_type": "code",
   "execution_count": 9,
   "id": "01a6ba22-a7db-42f2-b9e6-8800d9b7c657",
   "metadata": {},
   "outputs": [],
   "source": [
    "import pandas as pd\n",
    "import psycopg2\n",
    "from sqlalchemy import create_engine"
   ]
  },
  {
   "cell_type": "code",
   "execution_count": 10,
   "id": "2591c99e-bcea-4f2d-bfc5-1479899fbca3",
   "metadata": {},
   "outputs": [],
   "source": [
    "# 创建数据库连接\n",
    "db_connection_info = {\n",
    "    \"host\": \"127.0.0.1\",\n",
    "    \"database\": \"gp13\",\n",
    "    \"user\": \"a2513210106\",\n",
    "    \"password\": \"xawl-6325\",\n",
    "    \"port\": \"9929\"\n",
    "}"
   ]
  },
  {
   "cell_type": "code",
   "execution_count": 25,
   "id": "e99fa993-4f3f-4e88-b367-1ef4840b5036",
   "metadata": {},
   "outputs": [],
   "source": [
    "# car_info_sss.csv入库\n",
    "\n",
    "# 表中各字段类型\n",
    "columns_and_types1 = {\n",
    "    \"car_brand\": str,\n",
    "    \"style_year\": str,\n",
    "    \"other_info\": str,\n",
    "    \"buy_year\": int,\n",
    "    \"total_km\": float,\n",
    "    \"location\": str,\n",
    "    \"total_price\": float,\n",
    "    \"original_price\": float,\n",
    "    \"brand_tag\": str,\n",
    "    \"engine_displacement\": float,\n",
    "    \"province_id\": int,\n",
    "    \"province_name\": str,\n",
    "    \"product_year\": int,\n",
    "    \"year_difference\": int,\n",
    "    \"Value_retention\": float\n",
    "}\n",
    "\n",
    "car_info_sss_df = pd.read_csv('../数据/car_info_sss.csv',encoding='GBK', dtype=columns_and_types1)"
   ]
  },
  {
   "cell_type": "code",
   "execution_count": 22,
   "id": "5d00ecf5-e39a-407f-ae99-c43e9f06eb8c",
   "metadata": {},
   "outputs": [
    {
     "name": "stdout",
     "output_type": "stream",
     "text": [
      "success!\n"
     ]
    }
   ],
   "source": [
    "# 连接到数据库\n",
    "engine = create_engine(f\"postgresql://{db_connection_info['user']}:{db_connection_info['password']}@{db_connection_info['host']}:{db_connection_info['port']}/{db_connection_info['database']}\")\n",
    "\n",
    "# 将数据写入数据库\n",
    "car_info_sss_df.to_sql(\"car_info_sss\", engine, if_exists=\"replace\", index=False, method=\"multi\")\n",
    "\n",
    "# 关闭数据库连接\n",
    "engine.dispose()\n",
    "\n",
    "print('success!')"
   ]
  },
  {
   "cell_type": "code",
   "execution_count": 18,
   "id": "95936f7d-3bdb-458d-a0de-c6fada7099dd",
   "metadata": {},
   "outputs": [],
   "source": [
    "# mean_value_df.csv入库\n",
    "\n",
    "# 表中各字段类型\n",
    "columns_and_types2 = {\n",
    "    'brand': str,\n",
    "    'value_rate_avg': float, \n",
    "    'five_year_rate': float, \n",
    "    'ten_year_rate': float,\n",
    "    'five_counts': int,\n",
    "    'ten_counts': int,\n",
    "    'counts': int\n",
    "}\n",
    "\n",
    "mean_value_df = pd.read_csv('../数据/mean_value_df.csv', dtype=columns_and_types2)"
   ]
  },
  {
   "cell_type": "code",
   "execution_count": 19,
   "id": "da46c774-af50-4bb4-8113-c8e7310eb18a",
   "metadata": {},
   "outputs": [
    {
     "name": "stdout",
     "output_type": "stream",
     "text": [
      "success!\n"
     ]
    }
   ],
   "source": [
    "# 连接到数据库\n",
    "engine = create_engine(f\"postgresql://{db_connection_info['user']}:{db_connection_info['password']}@{db_connection_info['host']}:{db_connection_info['port']}/{db_connection_info['database']}\")\n",
    "\n",
    "# 将数据写入数据库\n",
    "mean_value_df.to_sql(\"mean_value_df\", engine, if_exists=\"replace\", index=False, method=\"multi\")\n",
    "\n",
    "# 关闭数据库连接\n",
    "engine.dispose()\n",
    "\n",
    "print('success!')"
   ]
  },
  {
   "cell_type": "code",
   "execution_count": null,
   "id": "777da3c6-c7b2-4664-ba77-2f40b6a81e96",
   "metadata": {},
   "outputs": [],
   "source": []
  },
  {
   "cell_type": "code",
   "execution_count": 23,
   "id": "e1c47f7b-24b2-4a1e-acf7-3e6c0845ea15",
   "metadata": {},
   "outputs": [],
   "source": [
    "# province_rank_df.csv 入库\n",
    "columns_and_types3 = {\n",
    "    \"province_name\": str,\n",
    "    \"count\": int\n",
    "}\n",
    "\n",
    "province_rank_df = pd.read_csv('../数据/province_rank_df.csv', dtype=columns_and_types3)"
   ]
  },
  {
   "cell_type": "code",
   "execution_count": 24,
   "id": "3908af4c-f7f5-4648-9346-b749326cc88e",
   "metadata": {},
   "outputs": [
    {
     "name": "stdout",
     "output_type": "stream",
     "text": [
      "success!\n"
     ]
    }
   ],
   "source": [
    "# 连接到数据库\n",
    "engine = create_engine(f\"postgresql://{db_connection_info['user']}:{db_connection_info['password']}@{db_connection_info['host']}:{db_connection_info['port']}/{db_connection_info['database']}\")\n",
    "\n",
    "# 将数据写入数据库\n",
    "province_rank_df.to_sql(\"province_rank_df\", engine, if_exists=\"replace\", index=False, method=\"multi\")\n",
    "\n",
    "# 关闭数据库连接\n",
    "engine.dispose()\n",
    "\n",
    "print('success!')"
   ]
  },
  {
   "cell_type": "code",
   "execution_count": null,
   "id": "7ca13388-b697-48b2-adf8-a3da980393e2",
   "metadata": {},
   "outputs": [],
   "source": []
  }
 ],
 "metadata": {
  "kernelspec": {
   "display_name": "Python 3 (ipykernel)",
   "language": "python",
   "name": "python3"
  },
  "language_info": {
   "codemirror_mode": {
    "name": "ipython",
    "version": 3
   },
   "file_extension": ".py",
   "mimetype": "text/x-python",
   "name": "python",
   "nbconvert_exporter": "python",
   "pygments_lexer": "ipython3",
   "version": "3.11.5"
  }
 },
 "nbformat": 4,
 "nbformat_minor": 5
}
