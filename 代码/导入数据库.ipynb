{
 "cells": [
  {
   "cell_type": "code",
   "execution_count": 2,
   "id": "8c1e99d3-066b-4d5f-b84c-4f405a54565f",
   "metadata": {},
   "outputs": [],
   "source": [
    "import pandas as pd\n",
    "import psycopg2\n",
    "from sqlalchemy import create_engine"
   ]
  },
  {
   "cell_type": "code",
   "execution_count": 1,
   "id": "7277b8f7-01f2-4a4d-9815-84e8b1df4a75",
   "metadata": {},
   "outputs": [],
   "source": [
    "# 表中各字段类型\n",
    "columns_and_types = {\n",
    "    \"car_brand\": str,\n",
    "    \"style_year\": str,\n",
    "    \"name\": str,\n",
    "    \"buy_year\": float,\n",
    "    \"total_km\": str,\n",
    "    \"location\": str,\n",
    "    \"total_price\": float,\n",
    "    \"original_price\": float,\n",
    "    \"brand_tag\": str,\n",
    "    \"engine_displacement\": float\n",
    "}"
   ]
  },
  {
   "cell_type": "code",
   "execution_count": 3,
   "id": "d9ad44cc-6cf3-41c6-b74a-72452c9545a5",
   "metadata": {},
   "outputs": [],
   "source": [
    "df = pd.read_csv('../数据/car_info_finals.csv', dtype=columns_and_types)\n",
    "# 删除不需要的列\n",
    "del df['other_info']"
   ]
  },
  {
   "cell_type": "code",
   "execution_count": 4,
   "id": "bed87c81-dbea-4ece-9041-8c8cdb062692",
   "metadata": {},
   "outputs": [
    {
     "data": {
      "text/html": [
       "<div>\n",
       "<style scoped>\n",
       "    .dataframe tbody tr th:only-of-type {\n",
       "        vertical-align: middle;\n",
       "    }\n",
       "\n",
       "    .dataframe tbody tr th {\n",
       "        vertical-align: top;\n",
       "    }\n",
       "\n",
       "    .dataframe thead th {\n",
       "        text-align: right;\n",
       "    }\n",
       "</style>\n",
       "<table border=\"1\" class=\"dataframe\">\n",
       "  <thead>\n",
       "    <tr style=\"text-align: right;\">\n",
       "      <th></th>\n",
       "      <th>car_brand</th>\n",
       "      <th>style_year</th>\n",
       "      <th>buy_year</th>\n",
       "      <th>total_km</th>\n",
       "      <th>location</th>\n",
       "      <th>total_price</th>\n",
       "      <th>original_price</th>\n",
       "      <th>brand_tag</th>\n",
       "      <th>engine_displacement</th>\n",
       "    </tr>\n",
       "  </thead>\n",
       "  <tbody>\n",
       "    <tr>\n",
       "      <th>0</th>\n",
       "      <td>马自达 阿特兹</td>\n",
       "      <td>2018款</td>\n",
       "      <td>2018.0</td>\n",
       "      <td>1.0</td>\n",
       "      <td>西安</td>\n",
       "      <td>19.47</td>\n",
       "      <td>23.5</td>\n",
       "      <td>马自达</td>\n",
       "      <td>2.5</td>\n",
       "    </tr>\n",
       "    <tr>\n",
       "      <th>1</th>\n",
       "      <td>长安商用 欧力威</td>\n",
       "      <td>2013款</td>\n",
       "      <td>2013.0</td>\n",
       "      <td>12.3</td>\n",
       "      <td>西宁</td>\n",
       "      <td>1.95</td>\n",
       "      <td>4.7</td>\n",
       "      <td>长安</td>\n",
       "      <td>1.2</td>\n",
       "    </tr>\n",
       "    <tr>\n",
       "      <th>2</th>\n",
       "      <td>保时捷Cayenne</td>\n",
       "      <td>2016款</td>\n",
       "      <td>2015.0</td>\n",
       "      <td>3.8</td>\n",
       "      <td>哈尔滨</td>\n",
       "      <td>75.00</td>\n",
       "      <td>96.4</td>\n",
       "      <td>保时捷</td>\n",
       "      <td>3.0</td>\n",
       "    </tr>\n",
       "    <tr>\n",
       "      <th>3</th>\n",
       "      <td>别克 凯越</td>\n",
       "      <td>2011款</td>\n",
       "      <td>2010.0</td>\n",
       "      <td>11.5</td>\n",
       "      <td>成都</td>\n",
       "      <td>2.68</td>\n",
       "      <td>11.7</td>\n",
       "      <td>别克</td>\n",
       "      <td>1.6</td>\n",
       "    </tr>\n",
       "    <tr>\n",
       "      <th>4</th>\n",
       "      <td>大众 夏朗</td>\n",
       "      <td>2016款</td>\n",
       "      <td>2017.0</td>\n",
       "      <td>5.6</td>\n",
       "      <td>广州</td>\n",
       "      <td>19.00</td>\n",
       "      <td>32.1</td>\n",
       "      <td>大众</td>\n",
       "      <td>380.0</td>\n",
       "    </tr>\n",
       "  </tbody>\n",
       "</table>\n",
       "</div>"
      ],
      "text/plain": [
       "    car_brand style_year  buy_year total_km location  total_price  \\\n",
       "0     马自达 阿特兹      2018款    2018.0      1.0       西安        19.47   \n",
       "1    长安商用 欧力威      2013款    2013.0     12.3       西宁         1.95   \n",
       "2  保时捷Cayenne      2016款    2015.0      3.8      哈尔滨        75.00   \n",
       "3       别克 凯越      2011款    2010.0     11.5       成都         2.68   \n",
       "4       大众 夏朗      2016款    2017.0      5.6       广州        19.00   \n",
       "\n",
       "   original_price brand_tag  engine_displacement  \n",
       "0            23.5       马自达                  2.5  \n",
       "1             4.7        长安                  1.2  \n",
       "2            96.4       保时捷                  3.0  \n",
       "3            11.7        别克                  1.6  \n",
       "4            32.1        大众                380.0  "
      ]
     },
     "execution_count": 4,
     "metadata": {},
     "output_type": "execute_result"
    }
   ],
   "source": [
    "df.head()"
   ]
  },
  {
   "cell_type": "code",
   "execution_count": 6,
   "id": "0c427e8c-215a-45ff-a950-3335b78ea334",
   "metadata": {},
   "outputs": [],
   "source": []
  },
  {
   "cell_type": "code",
   "execution_count": 5,
   "id": "ed3db455-51fb-41a5-bfae-1adba7362bda",
   "metadata": {},
   "outputs": [],
   "source": [
    "# 创建数据库连接\n",
    "db_connection_info = {\n",
    "    \"host\": \"127.0.0.1\",\n",
    "    \"database\": \"gp13\",\n",
    "    \"user\": \"a2513210106\",\n",
    "    \"password\": \"xawl-6325\",\n",
    "    \"port\": \"9929\"\n",
    "}"
   ]
  },
  {
   "cell_type": "code",
   "execution_count": 6,
   "id": "4bed1166-9b6d-4fba-b785-7bfa10a7a1d2",
   "metadata": {},
   "outputs": [
    {
     "name": "stdout",
     "output_type": "stream",
     "text": [
      "success!\n"
     ]
    }
   ],
   "source": [
    "# 连接到数据库\n",
    "engine = create_engine(f\"postgresql://{db_connection_info['user']}:{db_connection_info['password']}@{db_connection_info['host']}:{db_connection_info['port']}/{db_connection_info['database']}\")\n",
    "\n",
    "# 将数据写入数据库\n",
    "df.to_sql(\"car_data\", engine, if_exists=\"replace\", index=False, method=\"multi\")\n",
    "\n",
    "# 关闭数据库连接\n",
    "engine.dispose()\n",
    "\n",
    "print('success!')"
   ]
  },
  {
   "cell_type": "code",
   "execution_count": null,
   "id": "07e73857-8952-43ce-ab5e-3e9cfe754bfa",
   "metadata": {},
   "outputs": [],
   "source": []
  }
 ],
 "metadata": {
  "kernelspec": {
   "display_name": "Python 3 (ipykernel)",
   "language": "python",
   "name": "python3"
  },
  "language_info": {
   "codemirror_mode": {
    "name": "ipython",
    "version": 3
   },
   "file_extension": ".py",
   "mimetype": "text/x-python",
   "name": "python",
   "nbconvert_exporter": "python",
   "pygments_lexer": "ipython3",
   "version": "3.11.5"
  }
 },
 "nbformat": 4,
 "nbformat_minor": 5
}
